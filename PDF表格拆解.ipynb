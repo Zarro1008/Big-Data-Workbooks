{
  "nbformat": 4,
  "nbformat_minor": 0,
  "metadata": {
    "colab": {
      "name": "PDF表格拆解.ipynb",
      "private_outputs": true,
      "provenance": [],
      "collapsed_sections": [],
      "authorship_tag": "ABX9TyMsRuX21aeS0mr0UXADtWx+",
      "include_colab_link": true
    },
    "kernelspec": {
      "name": "python3",
      "display_name": "Python 3"
    }
  },
  "cells": [
    {
      "cell_type": "markdown",
      "metadata": {
        "id": "view-in-github",
        "colab_type": "text"
      },
      "source": [
        "<a href=\"https://colab.research.google.com/github/Zarro1008/Big-Data-Workbooks/blob/master/PDF%E8%A1%A8%E6%A0%BC%E6%8B%86%E8%A7%A3.ipynb\" target=\"_parent\"><img src=\"https://colab.research.google.com/assets/colab-badge.svg\" alt=\"Open In Colab\"/></a>"
      ]
    },
    {
      "cell_type": "code",
      "metadata": {
        "id": "3wggpO0E8mss"
      },
      "source": [
        "# 連結 GOOGOLE DRICE\n",
        "from google.colab import drive\n",
        "drive.mount('/content/drive')"
      ],
      "execution_count": null,
      "outputs": []
    },
    {
      "cell_type": "markdown",
      "metadata": {
        "id": "xi01JqaT8DhL"
      },
      "source": [
        "\r\n",
        "# 安裝 PDF 套件\r\n",
        "\r\n",
        "\r\n",
        "```\r\n",
        "pip install tabula-py\r\n",
        "```\r\n",
        "\r\n",
        "\r\n",
        "> "
      ]
    },
    {
      "cell_type": "code",
      "metadata": {
        "id": "h8avmypG7780"
      },
      "source": [
        "pip install tabula-py"
      ],
      "execution_count": null,
      "outputs": []
    },
    {
      "cell_type": "code",
      "metadata": {
        "id": "o-62BMcB71Gk"
      },
      "source": [
        "import tabula\r\n",
        "path = '/content/drive/MyDrive/程式/JP.pdf'\r\n",
        "df = tabula.read_pdf(path, encoding='utf-8', pages= '85,86,87,88,89,90')\r\n",
        "\r\n",
        "df\r\n"
      ],
      "execution_count": null,
      "outputs": []
    },
    {
      "cell_type": "code",
      "metadata": {
        "id": "c6_bB_0Q8WdX"
      },
      "source": [
        "# 可完整下載\r\n",
        "\r\n",
        "tabula.convert_into(path, \"output.csv\", output_format=\"csv\", pages='85,86,87,88,89,90')\r\n",
        "\r\n",
        "print(\"OK\")\r\n",
        "\r\n",
        "\r\n"
      ],
      "execution_count": null,
      "outputs": []
    },
    {
      "cell_type": "code",
      "metadata": {
        "id": "j_hokAlnLc_z"
      },
      "source": [
        ""
      ],
      "execution_count": null,
      "outputs": []
    },
    {
      "cell_type": "code",
      "metadata": {
        "id": "B2c84TeEId9-"
      },
      "source": [
        "# 有誤\r\n",
        "from tabula import read_pdf\r\n",
        "import pandas as pd\r\n",
        "\r\n",
        "path = '/content/drive/MyDrive/程式/JP.pdf'\r\n",
        "\r\n",
        "pages = ['85','86','87','88','89','90']\r\n",
        "\r\n",
        "df = pd.DataFrame([])\r\n",
        "df_combine = pd.DataFrame([])\r\n",
        "for i in pages:\r\n",
        "    df = tabula.read_pdf(path, encoding='utf-8', pages = i)\r\n",
        "    #df_combine = pd.concat([df,df_combine],)\r\n",
        "\r\n",
        "df\r\n",
        "\r\n",
        "# df = tabula.read_pdf(path, encoding='utf-8', pages = p )\r\n",
        "# for indexs in df.index:\r\n",
        "#     print(df.loc[indexs].values)\r\n"
      ],
      "execution_count": null,
      "outputs": []
    }
  ]
}